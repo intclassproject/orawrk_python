{
 "cells": [
  {
   "cell_type": "markdown",
   "metadata": {},
   "source": [
    "# Loading a Text file in NumPy\n",
    "\n",
    "       np.loadtxt(\n",
    "           fname , \n",
    "           dtype<class 'float'> , \n",
    "           comments='#', \n",
    "           delimiter , \n",
    "           converters=None , \n",
    "           skiprows=0, \n",
    "           usecols=None , \n",
    "           unpack=False , \n",
    "           ndmin=0 )\n",
    "\n",
    "Useful links:\n",
    "- [NumPy load text](https://numpy.org/doc/stable/reference/generated/numpy.loadtxt.html)\n",
    "- [Array dtype](https://numpy.org/doc/stable/reference/arrays.dtypes.html)"
   ]
  },
  {
   "cell_type": "code",
   "execution_count": 3,
   "metadata": {},
   "outputs": [],
   "source": [
    "import numpy as np\n",
    "\n",
    "# Load text file\n",
    "fname = 'student-data.txt'\n",
    "# f8 - 8 bit float\n",
    "# S1 - single char (1 string)\n",
    "dtype1 = np.dtype([('gender', 'S1') , ('height','f8')]) \n",
    "students = np.loadtxt(fname , dtype=dtype1 ,skiprows=9 , usecols=(1,3))"
   ]
  },
  {
   "cell_type": "code",
   "execution_count": 4,
   "metadata": {},
   "outputs": [],
   "source": [
    "# create a boolean vector (byte type column)\n",
    "males = students['gender'] == b'M'"
   ]
  },
  {
   "cell_type": "code",
   "execution_count": 5,
   "metadata": {},
   "outputs": [
    {
     "data": {
      "text/plain": [
       "array([1.82, 1.77, 1.72, 1.72, 1.83, 1.63, 1.67, 1.66, 1.97, 1.69])"
      ]
     },
     "execution_count": 5,
     "metadata": {},
     "output_type": "execute_result"
    }
   ],
   "source": [
    "students['height'][males]"
   ]
  },
  {
   "cell_type": "markdown",
   "metadata": {},
   "source": [
    "### Exercise: find the average height:"
   ]
  },
  {
   "cell_type": "markdown",
   "metadata": {},
   "source": [
    "What is the average male height?"
   ]
  },
  {
   "cell_type": "markdown",
   "metadata": {},
   "source": [
    "What is the average female height?"
   ]
  },
  {
   "cell_type": "markdown",
   "metadata": {},
   "source": [
    "Exercise:\n",
    "- Add weight column to students array\n",
    "- What is the average female and male weight?"
   ]
  },
  {
   "cell_type": "markdown",
   "metadata": {},
   "source": [
    "## Plottiing numpy exercises\n",
    "\n",
    "1) Create a simple line plot \n",
    "- titled:  Male Height Plot \n",
    "- xlable represents: Male students\n",
    "- ylable represents: Height\n"
   ]
  },
  {
   "cell_type": "markdown",
   "metadata": {},
   "source": [
    "2) Create a histogram plot and a bar plot\n",
    "- titled:  Female weight Plots\n",
    "- xlable represents: Female students\n",
    "- ylable represents: Weight"
   ]
  },
  {
   "cell_type": "markdown",
   "metadata": {},
   "source": [
    "3) create a single histogram plot and a bar plot\n",
    "- titled:  Students weight Plot \n",
    "- xlable represents: Students\n",
    "- ylable represents: Female Weight\n",
    "- zlable represents: Male Weight"
   ]
  }
 ],
 "metadata": {
  "kernelspec": {
   "display_name": "Python 3",
   "language": "python",
   "name": "python3"
  },
  "language_info": {
   "codemirror_mode": {
    "name": "ipython",
    "version": 3
   },
   "file_extension": ".py",
   "mimetype": "text/x-python",
   "name": "python",
   "nbconvert_exporter": "python",
   "pygments_lexer": "ipython3",
   "version": "3.7.5"
  }
 },
 "nbformat": 4,
 "nbformat_minor": 4
}
